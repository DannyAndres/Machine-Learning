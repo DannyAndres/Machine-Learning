{
 "cells": [
  {
   "cell_type": "code",
   "execution_count": 23,
   "id": "b841398c",
   "metadata": {},
   "outputs": [],
   "source": [
    "# acquire MNIST data\n",
    "from tensorflow.keras.datasets import mnist\n",
    "\n",
    "(train_images, train_labels), (test_images, test_labels) = mnist.load_data()\n",
    "\n",
    "# reshape data for an MLP input\n",
    "import numpy as np\n",
    "\n",
    "train_images = np.reshape(train_images, (-1, 784))\n",
    "test_images = np.reshape(test_images, (-1, 784))\n",
    "\n",
    "# normalize data\n",
    "train_images = train_images.astype('float32') / 255\n",
    "test_images = test_images.astype('float32') / 255\n",
    "\n",
    "# convert labels to a one-hot vector\n",
    "from tensorflow.keras.utils import to_categorical\n",
    "\n",
    "train_labels = to_categorical(train_labels)\n",
    "test_labels = to_categorical(test_labels)"
   ]
  },
  {
   "cell_type": "code",
   "execution_count": 24,
   "id": "c3dd747a",
   "metadata": {},
   "outputs": [
    {
     "name": "stdout",
     "output_type": "stream",
     "text": [
      "Model: \"sequential_1\"\n",
      "_________________________________________________________________\n",
      "Layer (type)                 Output Shape              Param #   \n",
      "=================================================================\n",
      "dense_3 (Dense)              (None, 256)               200960    \n",
      "_________________________________________________________________\n",
      "dense_4 (Dense)              (None, 256)               65792     \n",
      "_________________________________________________________________\n",
      "dense_5 (Dense)              (None, 10)                2570      \n",
      "=================================================================\n",
      "Total params: 269,322\n",
      "Trainable params: 269,322\n",
      "Non-trainable params: 0\n",
      "_________________________________________________________________\n"
     ]
    }
   ],
   "source": [
    "# define network architecture\n",
    "from tensorflow.keras.models import Sequential\n",
    "from tensorflow.keras.layers import InputLayer\n",
    "from tensorflow.keras.layers import Dense\n",
    "\n",
    "MLP = Sequential()\n",
    "MLP.add(InputLayer(input_shape=(784, ))) # input layer\n",
    "MLP.add(Dense(256, activation='relu')) # hidden layer 1\n",
    "MLP.add(Dense(256, activation='relu')) # hidden layer 2\n",
    "MLP.add(Dense(10, activation='softmax')) # output layer\n",
    "\n",
    "# summary\n",
    "MLP.summary()"
   ]
  },
  {
   "cell_type": "code",
   "execution_count": 25,
   "id": "94688370",
   "metadata": {},
   "outputs": [],
   "source": [
    "# optimization\n",
    "MLP.compile(loss='categorical_crossentropy',\n",
    "            optimizer='adam',\n",
    "            metrics=['accuracy'])"
   ]
  },
  {
   "cell_type": "code",
   "execution_count": 26,
   "id": "a92fa216",
   "metadata": {},
   "outputs": [
    {
     "name": "stdout",
     "output_type": "stream",
     "text": [
      "Epoch 1/40\n",
      " 12/469 [..............................] - ETA: 4s - loss: 1.6832 - accuracy: 0.5599"
     ]
    },
    {
     "name": "stderr",
     "output_type": "stream",
     "text": [
      "2023-02-27 03:56:26.205704: I tensorflow/core/grappler/optimizers/custom_graph_optimizer_registry.cc:112] Plugin optimizer for device_type GPU is enabled.\n"
     ]
    },
    {
     "name": "stdout",
     "output_type": "stream",
     "text": [
      "469/469 [==============================] - 4s 8ms/step - loss: 0.2621 - accuracy: 0.9241\n",
      "Epoch 2/40\n",
      "469/469 [==============================] - 4s 8ms/step - loss: 0.0955 - accuracy: 0.9716\n",
      "Epoch 3/40\n",
      "469/469 [==============================] - 4s 8ms/step - loss: 0.0611 - accuracy: 0.9812\n",
      "Epoch 4/40\n",
      "469/469 [==============================] - 4s 8ms/step - loss: 0.0440 - accuracy: 0.9862\n",
      "Epoch 5/40\n",
      "469/469 [==============================] - 4s 8ms/step - loss: 0.0329 - accuracy: 0.9894\n",
      "Epoch 6/40\n",
      "469/469 [==============================] - 4s 8ms/step - loss: 0.0251 - accuracy: 0.9919\n",
      "Epoch 7/40\n",
      "469/469 [==============================] - 4s 8ms/step - loss: 0.0209 - accuracy: 0.9930\n",
      "Epoch 8/40\n",
      "469/469 [==============================] - 5s 10ms/step - loss: 0.0166 - accuracy: 0.9949\n",
      "Epoch 9/40\n",
      "469/469 [==============================] - 4s 9ms/step - loss: 0.0140 - accuracy: 0.9954\n",
      "Epoch 10/40\n",
      "469/469 [==============================] - 4s 8ms/step - loss: 0.0126 - accuracy: 0.9958\n",
      "Epoch 11/40\n",
      "469/469 [==============================] - 4s 8ms/step - loss: 0.0138 - accuracy: 0.9950\n",
      "Epoch 12/40\n",
      "469/469 [==============================] - 4s 8ms/step - loss: 0.0133 - accuracy: 0.9956\n",
      "Epoch 13/40\n",
      "469/469 [==============================] - 4s 8ms/step - loss: 0.0106 - accuracy: 0.9966\n",
      "Epoch 14/40\n",
      "469/469 [==============================] - 4s 8ms/step - loss: 0.0099 - accuracy: 0.9965\n",
      "Epoch 15/40\n",
      "469/469 [==============================] - 4s 8ms/step - loss: 0.0076 - accuracy: 0.9974\n",
      "Epoch 16/40\n",
      "469/469 [==============================] - 4s 9ms/step - loss: 0.0083 - accuracy: 0.9974\n",
      "Epoch 17/40\n",
      "469/469 [==============================] - 4s 8ms/step - loss: 0.0067 - accuracy: 0.9979\n",
      "Epoch 18/40\n",
      "469/469 [==============================] - 4s 8ms/step - loss: 0.0095 - accuracy: 0.9969\n",
      "Epoch 19/40\n",
      "469/469 [==============================] - 4s 8ms/step - loss: 0.0096 - accuracy: 0.9969\n",
      "Epoch 20/40\n",
      "469/469 [==============================] - 4s 8ms/step - loss: 0.0021 - accuracy: 0.9994\n",
      "Epoch 21/40\n",
      "469/469 [==============================] - 4s 8ms/step - loss: 0.0048 - accuracy: 0.9985\n",
      "Epoch 22/40\n",
      "469/469 [==============================] - 4s 8ms/step - loss: 0.0109 - accuracy: 0.9966\n",
      "Epoch 23/40\n",
      "469/469 [==============================] - 4s 8ms/step - loss: 0.0057 - accuracy: 0.9981\n",
      "Epoch 24/40\n",
      "469/469 [==============================] - 4s 8ms/step - loss: 0.0093 - accuracy: 0.9972\n",
      "Epoch 25/40\n",
      "469/469 [==============================] - 4s 8ms/step - loss: 0.0047 - accuracy: 0.9985\n",
      "Epoch 26/40\n",
      "469/469 [==============================] - 4s 8ms/step - loss: 0.0047 - accuracy: 0.9986\n",
      "Epoch 27/40\n",
      "469/469 [==============================] - 4s 8ms/step - loss: 0.0074 - accuracy: 0.9976\n",
      "Epoch 28/40\n",
      "469/469 [==============================] - 4s 8ms/step - loss: 0.0051 - accuracy: 0.9985\n",
      "Epoch 29/40\n",
      "469/469 [==============================] - 4s 9ms/step - loss: 7.6326e-04 - accuracy: 0.9998\n",
      "Epoch 30/40\n",
      "469/469 [==============================] - 4s 9ms/step - loss: 4.2936e-04 - accuracy: 0.9999\n",
      "Epoch 31/40\n",
      "469/469 [==============================] - 4s 9ms/step - loss: 0.0145 - accuracy: 0.9957\n",
      "Epoch 32/40\n",
      "469/469 [==============================] - 4s 9ms/step - loss: 0.0080 - accuracy: 0.9974\n",
      "Epoch 33/40\n",
      "469/469 [==============================] - 4s 8ms/step - loss: 0.0023 - accuracy: 0.9991\n",
      "Epoch 34/40\n",
      "469/469 [==============================] - 4s 8ms/step - loss: 0.0038 - accuracy: 0.9987\n",
      "Epoch 35/40\n",
      "469/469 [==============================] - 4s 8ms/step - loss: 0.0040 - accuracy: 0.9987\n",
      "Epoch 36/40\n",
      "469/469 [==============================] - 4s 8ms/step - loss: 0.0061 - accuracy: 0.9981\n",
      "Epoch 37/40\n",
      "469/469 [==============================] - 4s 8ms/step - loss: 0.0052 - accuracy: 0.9985\n",
      "Epoch 38/40\n",
      "469/469 [==============================] - 4s 8ms/step - loss: 0.0027 - accuracy: 0.9992\n",
      "Epoch 39/40\n",
      "469/469 [==============================] - 4s 9ms/step - loss: 9.9059e-04 - accuracy: 0.9997\n",
      "Epoch 40/40\n",
      "469/469 [==============================] - 4s 8ms/step - loss: 0.0066 - accuracy: 0.9981\n"
     ]
    },
    {
     "data": {
      "text/plain": [
       "<tensorflow.python.keras.callbacks.History at 0x290fb8100>"
      ]
     },
     "execution_count": 26,
     "metadata": {},
     "output_type": "execute_result"
    }
   ],
   "source": [
    "# train (fit)\n",
    "MLP.fit(train_images, train_labels, \n",
    "        epochs=40, batch_size=128)"
   ]
  },
  {
   "cell_type": "code",
   "execution_count": 27,
   "id": "0b1449ef",
   "metadata": {},
   "outputs": [
    {
     "name": "stderr",
     "output_type": "stream",
     "text": [
      "2023-02-27 04:07:29.282552: I tensorflow/core/grappler/optimizers/custom_graph_optimizer_registry.cc:112] Plugin optimizer for device_type GPU is enabled.\n"
     ]
    },
    {
     "name": "stdout",
     "output_type": "stream",
     "text": [
      "Test loss: 0.11744251102209091\n",
      "Test accuracy: 0.9819000363349915\n"
     ]
    }
   ],
   "source": [
    "# evaluate performance\n",
    "test_loss, test_acc = MLP.evaluate(test_images, test_labels,\n",
    "                                   batch_size=128,\n",
    "                                   verbose=0)\n",
    "print(\"Test loss:\", test_loss)\n",
    "print(\"Test accuracy:\", test_acc)"
   ]
  },
  {
   "cell_type": "code",
   "execution_count": 28,
   "id": "fc361ad6",
   "metadata": {},
   "outputs": [],
   "source": [
    "import numpy as np\n",
    "import tensorflow as tf\n",
    "np.random.seed(42)\n",
    "tf.random.set_seed(42)"
   ]
  },
  {
   "cell_type": "code",
   "execution_count": 29,
   "id": "8b162fb4",
   "metadata": {},
   "outputs": [
    {
     "name": "stdout",
     "output_type": "stream",
     "text": [
      "[0. 0. 0. 0. 1. 0. 0. 0. 0. 0.]\n"
     ]
    },
    {
     "name": "stderr",
     "output_type": "stream",
     "text": [
      "2023-02-27 04:07:34.746499: I tensorflow/core/grappler/optimizers/custom_graph_optimizer_registry.cc:112] Plugin optimizer for device_type GPU is enabled.\n"
     ]
    },
    {
     "data": {
      "text/plain": [
       "array([[0.063133  , 0.01960064, 0.04424191, 0.06048292, 0.06786382,\n",
       "        0.57510334, 0.04858135, 0.02492615, 0.07062969, 0.02543716]],\n",
       "      dtype=float32)"
      ]
     },
     "execution_count": 29,
     "metadata": {},
     "output_type": "execute_result"
    }
   ],
   "source": [
    "# make a prediction\n",
    "import matplotlib.pyplot as plt\n",
    "\n",
    "digit = test_images[4]\n",
    "\n",
    "print(test_labels[4])\n",
    "\n",
    "# plt.imshow(digit)\n",
    "\n",
    "digit = np.reshape(digit, (-1, 784))\n",
    "digit = digit.astype('float32') / 255\n",
    "\n",
    "MLP.predict(digit, verbose=0)"
   ]
  },
  {
   "cell_type": "code",
   "execution_count": 30,
   "id": "147f9c41",
   "metadata": {},
   "outputs": [
    {
     "name": "stdout",
     "output_type": "stream",
     "text": [
      "4 5\n"
     ]
    }
   ],
   "source": [
    "print(np.argmax(test_labels[4]),np.argmax(MLP.predict(digit, verbose=0)))"
   ]
  },
  {
   "cell_type": "code",
   "execution_count": null,
   "id": "a77daefc",
   "metadata": {},
   "outputs": [],
   "source": []
  }
 ],
 "metadata": {
  "kernelspec": {
   "display_name": "Python 3.9 (tensorflow)",
   "language": "python",
   "name": "tensorflow"
  },
  "language_info": {
   "codemirror_mode": {
    "name": "ipython",
    "version": 3
   },
   "file_extension": ".py",
   "mimetype": "text/x-python",
   "name": "python",
   "nbconvert_exporter": "python",
   "pygments_lexer": "ipython3",
   "version": "3.9.7"
  }
 },
 "nbformat": 4,
 "nbformat_minor": 5
}
