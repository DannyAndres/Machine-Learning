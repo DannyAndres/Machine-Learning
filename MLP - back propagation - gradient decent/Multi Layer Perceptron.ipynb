{
 "cells": [
  {
   "cell_type": "code",
   "execution_count": 2,
   "id": "18267e87",
   "metadata": {},
   "outputs": [],
   "source": [
    "import math\n",
    "import random\n",
    "import numpy as np\n",
    "import matplotlib.pyplot as plt\n",
    "%matplotlib inline"
   ]
  },
  {
   "cell_type": "code",
   "execution_count": 3,
   "id": "8679f7f4",
   "metadata": {},
   "outputs": [],
   "source": [
    "class Value:\n",
    "  \n",
    "  def __init__(self, data, _children=(), _op='', label=''):\n",
    "    self.data = data\n",
    "    self.grad = 0.0\n",
    "    self._backward = lambda: None\n",
    "    self._prev = set(_children)\n",
    "    self._op = _op\n",
    "    self.label = label\n",
    "\n",
    "  def __repr__(self):\n",
    "    return f\"Value(data={self.data})\"\n",
    "  \n",
    "  def __add__(self, other):\n",
    "    other = other if isinstance(other, Value) else Value(other)\n",
    "    out = Value(self.data + other.data, (self, other), '+')\n",
    "    \n",
    "    def _backward():\n",
    "      self.grad += 1.0 * out.grad\n",
    "      other.grad += 1.0 * out.grad\n",
    "    out._backward = _backward\n",
    "    \n",
    "    return out\n",
    "\n",
    "  def __mul__(self, other):\n",
    "    other = other if isinstance(other, Value) else Value(other)\n",
    "    out = Value(self.data * other.data, (self, other), '*')\n",
    "    \n",
    "    def _backward():\n",
    "      self.grad += other.data * out.grad\n",
    "      other.grad += self.data * out.grad\n",
    "    out._backward = _backward\n",
    "      \n",
    "    return out\n",
    "  \n",
    "  def __pow__(self, other):\n",
    "    assert isinstance(other, (int, float)), \"only supporting int/float powers for now\"\n",
    "    out = Value(self.data**other, (self,), f'**{other}')\n",
    "\n",
    "    def _backward():\n",
    "        self.grad += other * (self.data ** (other - 1)) * out.grad\n",
    "    out._backward = _backward\n",
    "\n",
    "    return out\n",
    "  \n",
    "  def __rmul__(self, other): # other * self\n",
    "    return self * other\n",
    "\n",
    "  def __truediv__(self, other): # self / other\n",
    "    return self * other**-1\n",
    "\n",
    "  def __neg__(self): # -self\n",
    "    return self * -1\n",
    "\n",
    "  def __sub__(self, other): # self - other\n",
    "    return self + (-other)\n",
    "\n",
    "  def __radd__(self, other): # other + self\n",
    "    return self + other\n",
    "\n",
    "  def tanh(self):\n",
    "    x = self.data\n",
    "    t = (math.exp(2*x) - 1)/(math.exp(2*x) + 1)\n",
    "    out = Value(t, (self, ), 'tanh')\n",
    "    \n",
    "    def _backward():\n",
    "      self.grad += (1 - t**2) * out.grad\n",
    "    out._backward = _backward\n",
    "    \n",
    "    return out\n",
    "  \n",
    "  def exp(self):\n",
    "    x = self.data\n",
    "    out = Value(math.exp(x), (self, ), 'exp')\n",
    "    \n",
    "    def _backward():\n",
    "      self.grad += out.data * out.grad # NOTE: in the video I incorrectly used = instead of +=. Fixed here.\n",
    "    out._backward = _backward\n",
    "    \n",
    "    return out\n",
    "  \n",
    "  \n",
    "  def backward(self):\n",
    "    \n",
    "    topo = []\n",
    "    visited = set()\n",
    "    def build_topo(v):\n",
    "      if v not in visited:\n",
    "        visited.add(v)\n",
    "        for child in v._prev:\n",
    "          build_topo(child)\n",
    "        topo.append(v)\n",
    "    build_topo(self)\n",
    "    \n",
    "    self.grad = 1.0\n",
    "    for node in reversed(topo):\n",
    "      node._backward()"
   ]
  },
  {
   "cell_type": "code",
   "execution_count": 4,
   "id": "2e1dee04",
   "metadata": {},
   "outputs": [],
   "source": [
    "class Neuron:\n",
    "  \n",
    "  def __init__(self, nin):\n",
    "    self.w = [Value(random.uniform(-1,1)) for _ in range(nin)]\n",
    "    self.b = Value(random.uniform(-1,1))\n",
    "  \n",
    "  def __call__(self, x):\n",
    "    # w * x + b\n",
    "    act = sum((wi*xi for wi, xi in zip(self.w, x)), self.b)\n",
    "    out = act.tanh()\n",
    "    return out\n",
    "  \n",
    "  def parameters(self):\n",
    "    return self.w + [self.b]\n",
    "\n",
    "class Layer:\n",
    "  \n",
    "  def __init__(self, nin, nout):\n",
    "    self.neurons = [Neuron(nin) for _ in range(nout)]\n",
    "  \n",
    "  def __call__(self, x):\n",
    "    outs = [n(x) for n in self.neurons]\n",
    "    return outs[0] if len(outs) == 1 else outs\n",
    "  \n",
    "  def parameters(self):\n",
    "    return [p for neuron in self.neurons for p in neuron.parameters()]\n",
    "\n",
    "class MLP:\n",
    "  \n",
    "  def __init__(self, nin, nouts):\n",
    "    sz = [nin] + nouts\n",
    "    self.layers = [Layer(sz[i], sz[i+1]) for i in range(len(nouts))]\n",
    "  \n",
    "  def __call__(self, x):\n",
    "    for layer in self.layers:\n",
    "      x = layer(x)\n",
    "    return x\n",
    "  \n",
    "  def parameters(self):\n",
    "    return [p for layer in self.layers for p in layer.parameters()]"
   ]
  },
  {
   "cell_type": "code",
   "execution_count": 107,
   "id": "caa83ab9",
   "metadata": {},
   "outputs": [
    {
     "data": {
      "text/plain": [
       "Value(data=0.1075793441308745)"
      ]
     },
     "execution_count": 107,
     "metadata": {},
     "output_type": "execute_result"
    }
   ],
   "source": [
    "# Example 1\n",
    "x = [2.0, 3.0, -1.0] # inputs\n",
    "n = MLP(3, [4, 4, 1]) # MLP(inputs, layers=(4 node layer, 4 node layer, 1 node layer - output))\n",
    "n(x) # passing the inputs to the Multi Layer Perceptron"
   ]
  },
  {
   "cell_type": "code",
   "execution_count": 108,
   "id": "e4e219b7",
   "metadata": {},
   "outputs": [
    {
     "data": {
      "text/plain": [
       "[Value(data=0.1075793441308745),\n",
       " Value(data=0.28684860123742467),\n",
       " Value(data=0.18248596262923636),\n",
       " Value(data=0.318379834859191)]"
      ]
     },
     "execution_count": 108,
     "metadata": {},
     "output_type": "execute_result"
    }
   ],
   "source": [
    "# Example 2\n",
    "xs = [\n",
    "  [2.0, 3.0, -1.0], # expected result = 1.0\n",
    "  [3.0, -1.0, 0.5], # expected result = -1.0\n",
    "  [0.5, 1.0, 1.0], # expected result = -1.0\n",
    "  [1.0, 1.0, -1.0], # expected result = 1.0\n",
    "] # list of groups of inputs\n",
    "ys = [1.0, -1.0, -1.0, 1.0] # desired targets for each group of inputs\n",
    "\n",
    "ypred = [n(x) for x in xs] # predicted results from MLP for each group of inputs\n",
    "ypred"
   ]
  },
  {
   "cell_type": "code",
   "execution_count": 109,
   "id": "a7fe7b1a",
   "metadata": {},
   "outputs": [
    {
     "data": {
      "text/plain": [
       "Value(data=4.315273050870372)"
      ]
     },
     "execution_count": 109,
     "metadata": {},
     "output_type": "execute_result"
    }
   ],
   "source": [
    "# Calculating Loss value for example 2 - using square function for loss\n",
    "list_of_losses = [(yout - ygt)**2 for ygt, yout in zip(ys, ypred)]\n",
    "# zip ex: a = [1,2,3] b = [a,b,c] zip(a,b) = [[1,a],[2,b],[3,c]]\n",
    "# ygt means Y ground truth which is the expected result\n",
    "\n",
    "list_of_losses\n",
    "# returned a list of losses for each group of inputs\n",
    "\n",
    "loss = sum(list_of_losses)\n",
    "# total loss = the sum of all losses of expected results\n",
    "\n",
    "loss"
   ]
  },
  {
   "cell_type": "code",
   "execution_count": 110,
   "id": "e036b1cd",
   "metadata": {},
   "outputs": [
    {
     "data": {
      "text/plain": [
       "-0.045665039322060993"
      ]
     },
     "execution_count": 110,
     "metadata": {},
     "output_type": "execute_result"
    }
   ],
   "source": [
    "# calculating grade of nodes with derivative \n",
    "\n",
    "# because ypred is a list of output nodes of the MLP and we apply - and ** to those nodes which are instances of Value that has a -,** method\n",
    "# it means that the result of list of losses and loss itself are Value objects\n",
    "\n",
    "# losses = loss of ys0 + loss of ys1 + loss of ys2 + loss of ys3\n",
    "# loss of ys0 = object MLP + loss function -> loss function = (ys0 - ygt0)**2 -> object MLP is a graph with the output node ys0\n",
    "\n",
    "# doing backward() on loss will spread the gradient (derivate) to the loss function but also to the MLP\n",
    "# due to that we have, 1) how much the nodes affect the loss function, but also, 2) how much the nodes affect the output node ys0\n",
    "\n",
    "loss.backward() # always do one calculation per MLP creation because derivates add up and can acumulate\n",
    "n.layers[0].neurons[0].w[0].grad\n",
    "# how much this affects the loss or the output results\n",
    "# first layer, first neuron, first weight (one weight per input on a neuron, each neuron has 3 inputs), gradient derivative\n",
    "\n",
    "# the goal is to get a prediction or results as close as the ygt y ground truth value (expected result) to reduce loss as close to zero we can\n",
    "# if we make a Weight with a possitive gradient higher we will get a higher output\n",
    "# if we make a Weight with a negative gradient lower we will get a lower output\n",
    "# if the output is closer to the expected result we will get a lower loss\n",
    "# if the output is farther from the expected result we will get a higher loss"
   ]
  },
  {
   "cell_type": "code",
   "execution_count": 111,
   "id": "8813e16e",
   "metadata": {},
   "outputs": [
    {
     "data": {
      "text/plain": [
       "[Value(data=-0.7512169222274381),\n",
       " Value(data=0.6729080180743277),\n",
       " Value(data=-0.48918400002044815),\n",
       " Value(data=0.9730013024747246),\n",
       " Value(data=0.21636980175800624),\n",
       " Value(data=0.14496129518537937),\n",
       " Value(data=0.22864601946339325),\n",
       " Value(data=-0.4379285074685846),\n",
       " Value(data=-0.701628557614598),\n",
       " Value(data=0.008820360154472073),\n",
       " Value(data=-0.5734679922213968),\n",
       " Value(data=-0.5712361149626315),\n",
       " Value(data=0.3524453178487954),\n",
       " Value(data=-0.8671596991472574),\n",
       " Value(data=0.659389515987906),\n",
       " Value(data=0.8338393118892582),\n",
       " Value(data=-0.5018711601697647),\n",
       " Value(data=0.4720333827811458),\n",
       " Value(data=0.8881706937158571),\n",
       " Value(data=0.14976121913673968),\n",
       " Value(data=0.3314562602985882),\n",
       " Value(data=-0.8856408805332614),\n",
       " Value(data=0.04782015704745546),\n",
       " Value(data=0.2772402624125272),\n",
       " Value(data=0.37119894426162614),\n",
       " Value(data=-0.19822048509306356),\n",
       " Value(data=-0.20508553396429852),\n",
       " Value(data=-0.8831249016114551),\n",
       " Value(data=-0.27054806244723095),\n",
       " Value(data=-0.04624989351732367),\n",
       " Value(data=0.08811481745464067),\n",
       " Value(data=-0.4468842850820949),\n",
       " Value(data=-0.5379810410929591),\n",
       " Value(data=0.7803681997044938),\n",
       " Value(data=0.31319411382126106),\n",
       " Value(data=-0.9111498272730241),\n",
       " Value(data=0.5849583031161258),\n",
       " Value(data=-0.31401793531499345),\n",
       " Value(data=0.6577902196017535),\n",
       " Value(data=-0.4029869956572576),\n",
       " Value(data=-0.13723621193608238)]"
      ]
     },
     "execution_count": 111,
     "metadata": {},
     "output_type": "execute_result"
    }
   ],
   "source": [
    "# getting all the parameters of the MLP - values we can interact with to change the output (weights and biases)\n",
    "\n",
    "n.parameters()\n",
    "# node1w1,node1w2,node1w3,node1bias,node2w1,node2w2,node2w3,node2bias, ... \n",
    "# has all the objects inside we can modify them"
   ]
  },
  {
   "cell_type": "code",
   "execution_count": 112,
   "id": "ed94ab86",
   "metadata": {},
   "outputs": [
    {
     "name": "stdout",
     "output_type": "stream",
     "text": [
      "{'g': -0.045665039322060993, 'w': -0.7512169222274381}\n"
     ]
    }
   ],
   "source": [
    "# Gradient decent\n",
    "\n",
    "# we modify each parameter by a tiny STEP size in the direction of the gradient\n",
    "\n",
    "# following the direction can get us closer to the loss\n",
    "print({\"g\": n.layers[0].neurons[0].w[0].grad, \"w\": n.layers[0].neurons[0].w[0].data})\n",
    "# 1) if grad is negative means that making W bigger the lost will be lower\n",
    "# 2) if grad is possitive means that making W smaller the lost will be lower\n",
    "\n",
    "# if the amount to add is (step * grad) means:\n",
    "# 1) if grad is negative, W must get bigger -> (step(negative) * grad(negative)) -> step must be negative to cancel the grad\n",
    "# 2) if grad is possitive, W must get smaller -> (step(negative) * grad(possitive)) -> step must be negative to take out the grad\n",
    "\n",
    "# the previous is \"following the direction of the gradient\""
   ]
  },
  {
   "cell_type": "code",
   "execution_count": 113,
   "id": "6779db72",
   "metadata": {},
   "outputs": [
    {
     "data": {
      "text/plain": [
       "-0.7507602718342175"
      ]
     },
     "execution_count": 113,
     "metadata": {},
     "output_type": "execute_result"
    }
   ],
   "source": [
    "# changing the weights\n",
    "stepSign = -1\n",
    "\n",
    "# forward pass\n",
    "for p in n.parameters():\n",
    "    p.data += stepSign * 0.01 * p.grad\n",
    "    \n",
    "n.layers[0].neurons[0].w[0].data\n",
    "# new weight"
   ]
  },
  {
   "cell_type": "code",
   "execution_count": 114,
   "id": "abe7876d",
   "metadata": {},
   "outputs": [
    {
     "name": "stdout",
     "output_type": "stream",
     "text": [
      "[Value(data=0.17972347627624333), Value(data=0.1491367966297844), Value(data=0.14438916264037405), Value(data=0.34021384562940726)]\n",
      "{'old loss': Value(data=4.315273050870372), 'new loss': Value(data=3.7383132778087647)}\n"
     ]
    }
   ],
   "source": [
    "ypred = [n(x) for x in xs] # predicted results from MLP for each group of inputs\n",
    "print(ypred)\n",
    "# Calculating Loss after changing weights\n",
    "new_loss = sum([(yout - ygt)**2 for ygt, yout in zip(ys, ypred)])\n",
    "print({\"old loss\": loss, \"new loss\": new_loss})\n",
    "loss = new_loss\n",
    "loss.backward() # backward pass -> recalculate gradient"
   ]
  },
  {
   "cell_type": "code",
   "execution_count": 115,
   "id": "02e7b2eb",
   "metadata": {},
   "outputs": [],
   "source": [
    "# training the Model multiple times\n",
    "\n",
    "iterations_training = 10\n",
    "\n",
    "for x in range(iterations_training):\n",
    "    # forward pass\n",
    "    for p in n.parameters():\n",
    "        p.data += -0.01 * p.grad\n",
    "    # new loss\n",
    "    ypred = [n(x) for x in xs] # predicted results from MLP for each group of inputs\n",
    "    print(ypred)\n",
    "    # Calculating Loss after changing weights\n",
    "    new_loss = sum([(yout - ygt)**2 for ygt, yout in zip(ys, ypred)])\n",
    "    print({\"old loss\": loss, \"new loss\": new_loss})\n",
    "    loss = new_loss\n",
    "    # backward pass\n",
    "    loss.backward()"
   ]
  },
  {
   "cell_type": "code",
   "execution_count": null,
   "id": "790f5f06",
   "metadata": {},
   "outputs": [],
   "source": []
  }
 ],
 "metadata": {
  "kernelspec": {
   "display_name": "Python 3 (ipykernel)",
   "language": "python",
   "name": "python3"
  },
  "language_info": {
   "codemirror_mode": {
    "name": "ipython",
    "version": 3
   },
   "file_extension": ".py",
   "mimetype": "text/x-python",
   "name": "python",
   "nbconvert_exporter": "python",
   "pygments_lexer": "ipython3",
   "version": "3.9.7"
  }
 },
 "nbformat": 4,
 "nbformat_minor": 5
}
